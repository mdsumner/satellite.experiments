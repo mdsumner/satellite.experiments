{
 "cells": [
  {
   "cell_type": "code",
   "execution_count": 1,
   "metadata": {},
   "outputs": [],
   "source": [
    "#from odc.stac import configure_s3_access\n",
    "#configure_s3_access(cloud_defaults=True, aws_unsigned=True)\n",
    "from pystac_client import Client\n",
    "from odc.stac import load\n",
    "import fsspec\n",
    "import pandas\n",
    "from planetary_computer import sign_url\n",
    "import math\n",
    "\n",
    "## having trouble installing ... (psutils, psycog2-binary ...)\n",
    "#from odc.algo import mask_cleanup\n",
    "\n",
    "\n",
    "url = \"https://github.com/mdsumner/nuyina.underway/raw/main/data-raw/nuyina_underway.parquet\"\n",
    "with fsspec.open(url) as f: \n",
    "    df = pandas.read_parquet(f)\n",
    "   \n",
    "\n"
   ]
  },
  {
   "cell_type": "code",
   "execution_count": null,
   "metadata": {},
   "outputs": [],
   "source": [
    "d0 = df.tail(1)\n",
    "\n",
    "##pt = [77.93677, -68.56996]\n",
    "pt = [d0.longitude.to_list(), d0.latitude.to_list()]\n",
    "\n",
    "## distance around point in metres\n",
    "ds = 500\n",
    "b = ds / (1852 * 60)\n",
    "a = b * math.cos(pt[1] * math.pi/180)\n",
    "print(a)\n",
    "bbox = [pt[0] - a, pt[1] - b, pt[0] + a, pt[1] + b]\n",
    " \n",
    "\n",
    "client = Client.open(\"https://planetarycomputer.microsoft.com/api/stac/v1/\")\n",
    "\n",
    "result = client.search(collections = [\"sentinel-2-l2a\", \"landsat-c2-l2\"], bbox = bbox, datetime = \"2023-11\")\n",
    "\n",
    "items = list(result.items())\n",
    "print(len(items))\n",
    "\n",
    "items[0].to_dict()\n",
    "\n",
    "data = load(items, bbox = bbox, chunks = {}, groupby = \"solar_day\", measurements = [\"red\", \"green\", \"blue\"], patch_url=sign_url, crs = \"EPSG:32743\", fail_on_error=False)\n",
    "\n",
    "\n",
    "print(data.x.values[1] - data.x.values[0])"
   ]
  },
  {
   "cell_type": "code",
   "execution_count": 59,
   "metadata": {},
   "outputs": [
    {
     "name": "stdout",
     "output_type": "stream",
     "text": [
      "30.0\n"
     ]
    }
   ],
   "source": [
    "\n",
    "\n",
    "data[[\"red\", \"green\", \"blue\"]].to_array().plot.imshow(robust=True, col = \"time\", col_wrap = 2, size = 4)\n"
   ]
  },
  {
   "cell_type": "code",
   "execution_count": 54,
   "metadata": {},
   "outputs": [],
   "source": [
    "#CLOUD = 3\n",
    "#CLOUD_SHADOW = 4\n",
    "\n",
    "#bitmask = 0\n",
    "#for field in [CLOUD_SHADOW, CLOUD]:\n",
    "#    bitmask |= 1 << field\n",
    "\n",
    "\n",
    "#cloud_mask = data.qa_pixel.astype(\"uint16\") & bitmask != 0"
   ]
  },
  {
   "cell_type": "code",
   "execution_count": 55,
   "metadata": {},
   "outputs": [],
   "source": [
    "#cloud_mask.plot.imshow(col = \"time\", col_wrap = 2, size = 6)"
   ]
  }
 ],
 "metadata": {
  "kernelspec": {
   "display_name": "Python 3",
   "language": "python",
   "name": "python3"
  },
  "language_info": {
   "codemirror_mode": {
    "name": "ipython",
    "version": 3
   },
   "file_extension": ".py",
   "mimetype": "text/x-python",
   "name": "python",
   "nbconvert_exporter": "python",
   "pygments_lexer": "ipython3",
   "version": "3.8.10"
  }
 },
 "nbformat": 4,
 "nbformat_minor": 2
}
